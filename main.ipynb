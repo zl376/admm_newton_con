{
 "cells": [
  {
   "cell_type": "code",
   "execution_count": 1,
   "metadata": {
    "collapsed": true
   },
   "outputs": [],
   "source": [
    "import numpy as np\n",
    "from sklearn.datasets import make_classification\n",
    "\n",
    "from utils import *\n",
    "from solver import *"
   ]
  },
  {
   "cell_type": "markdown",
   "metadata": {},
   "source": [
    "## Parameter"
   ]
  },
  {
   "cell_type": "code",
   "execution_count": 3,
   "metadata": {},
   "outputs": [],
   "source": [
    "ndim = 10\n",
    "ndata = 200\n",
    "\n",
    "# ADMM\n",
    "rho = 1E0\n",
    "tol = 1E-6\n",
    "max_iter = 1000\n",
    "\n",
    "# Solver for primal subproblem\n",
    "#solver = 'CG'\n",
    "#solver_param = {'tol':1E-4, 'max_iter':50}\n",
    "solver = 'direct'\n",
    "solver_param = {}\n",
    "\n",
    "# Constraint\n",
    "#A = None               # No constraint\n",
    "A = np.eye(ndim)        # Inequality constraint\n",
    "                        #    A*x >= 0"
   ]
  },
  {
   "cell_type": "markdown",
   "metadata": {},
   "source": [
    "## Generate data "
   ]
  },
  {
   "cell_type": "code",
   "execution_count": 4,
   "metadata": {
    "collapsed": true
   },
   "outputs": [],
   "source": [
    "feature, label = make_classification(n_samples=ndata, n_features=ndim, n_redundant=0, n_informative=5, random_state=0)\n",
    "\n",
    "ndata, ndim = feature.shape\n",
    "\n",
    "# Make optimal weight positive\n",
    "#feature[:, [0,1,3,4,8,9]] *= -1;"
   ]
  },
  {
   "cell_type": "code",
   "execution_count": 5,
   "metadata": {
    "collapsed": true
   },
   "outputs": [],
   "source": [
    "# ================ Pre-processing =============== #\n",
    "\n",
    "# normalization\n",
    "mean_feature = feature.mean(axis=0)\n",
    "std_feature = feature.std(axis=0)\n",
    "feature = (feature - mean_feature[np.newaxis,:]) / std_feature[np.newaxis,:]"
   ]
  },
  {
   "cell_type": "markdown",
   "metadata": {},
   "source": [
    "## Newton ADMM with linear inequality constraints "
   ]
  },
  {
   "cell_type": "code",
   "execution_count": 6,
   "metadata": {},
   "outputs": [
    {
     "name": "stdout",
     "output_type": "stream",
     "text": [
      "Solution:\n",
      " [[1.13251340e-04]\n",
      " [9.86425387e-05]\n",
      " [1.29251805e-01]\n",
      " [6.45149424e-02]\n",
      " [9.39919431e-05]\n",
      " [5.83482641e-01]\n",
      " [2.21472695e-01]\n",
      " [4.57314680e-01]\n",
      " [9.64728160e-05]\n",
      " [1.00869433e-04]]\n",
      "Convergence\n"
     ]
    },
    {
     "data": {
      "image/png": "[encoded data removed]",
      "text/plain": [
       "<Figure size 432x288 with 1 Axes>"
      ]
     },
     "metadata": {},
     "output_type": "display_data"
    },
    {
     "name": "stdout",
     "output_type": "stream",
     "text": [
      "Gradient:\n",
      "|G_x*|=3.02e-01, |G_0|=4.02e-01\n",
      "Confusion matrix:\n",
      " [[73 28]\n",
      " [33 66]]\n",
      "Precision 0.702, Recall 0.667\n"
     ]
    },
    {
     "data": {
      "image/png": "[encoded data removed]",
      "text/plain": [
       "<Figure size 432x288 with 1 Axes>"
      ]
     },
     "metadata": {},
     "output_type": "display_data"
    },
    {
     "data": {
      "image/png": "[encoded data removed]",
      "text/plain": [
       "<Figure size 432x288 with 1 Axes>"
      ]
     },
     "metadata": {},
     "output_type": "display_data"
    }
   ],
   "source": [
    "# Logistic Regression\n",
    "weight, n_iter, cost_hist, *_ = ADMM_ineqcons(ndim, lambda x: CE(x, feature, label),\n",
    "                                                    lambda x: g_CE(x, feature, label),\n",
    "                                                    lambda x: h_CE(x, feature, label),\n",
    "                                                    A=A, \n",
    "                                                    rho=rho, tol=tol, max_iter=max_iter,\n",
    "                                                    solver=solver,\n",
    "                                                    solver_param=solver_param,\n",
    "                                                    verbose=False)\n",
    "    \n",
    "print('Solution:\\n {0}'.format(weight[:, np.newaxis]))\n",
    "\n",
    "print('Convergence')\n",
    "plt.plot(cost_hist[:,1], 'k-')\n",
    "plt.ylabel('Loss (cross entropy)')\n",
    "plt.xlabel('# iteration')\n",
    "plt.show()\n",
    "\n",
    "examine(weight, feature, label)"
   ]
  }
 ],
 "metadata": {
  "kernelspec": {
   "display_name": "Python 3",
   "language": "python",
   "name": "python3"
  },
  "language_info": {
   "codemirror_mode": {
    "name": "ipython",
    "version": 3
   },
   "file_extension": ".py",
   "mimetype": "text/x-python",
   "name": "python",
   "nbconvert_exporter": "python",
   "pygments_lexer": "ipython3",
   "version": "3.6.5"
  }
 },
 "nbformat": 4,
 "nbformat_minor": 2
}
